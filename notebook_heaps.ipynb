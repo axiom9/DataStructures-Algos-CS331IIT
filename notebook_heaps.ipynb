{
  "cells": [
    {
      "metadata": {
        "state": "normal"
      },
      "cell_type": "markdown",
      "source": "# Lab: Heaps"
    },
    {
      "metadata": {
        "state": "normal"
      },
      "cell_type": "markdown",
      "source": "## Overview\n\nFor this assignment you will start by modifying the heap data stucture implemented in class to allow it to keep its elements sorted by an arbitrary priority (identified by a `key` function), then use the augmented heap to efficiently compute the running median of a set of numbers."
    },
    {
      "metadata": {
        "state": "normal"
      },
      "cell_type": "markdown",
      "source": "## 1. Augmenting the Heap with a `key` function\n\nThe heap implementation covered in class is for a so-called \"max-heap\" — i.e., one where elements are organized such that the one with the maximum value can be efficiently extracted.\n\nThis limits our usage of the data structure, however. Our heap can currently only accommodate elements that have a natural ordering (i.e., they can be compared using the '`>`' and '`<`' operators as used in the implementation), and there's no way to order elements based on some partial or computed property.\n\nTo make our heap more flexible, you'll update it to allow a `key` function to be passed to its initializer. This function will be used to extract a value from each element added to the heap; these values, in turn, will be used to order the elements. \n\nWe can now easily create heaps with different semantics, e.g.,\n\n- `Heap(len)` will prioritize elements based on their length (e.g., applicable to strings, sequences, etc.)\n- `Heap(lambda x: -x)` can function as a *min-heap* for numbers\n- `Heap(lambda x: x.prop)` will prioritize elements based on their `prop` attribute\n\nIf no `key` function is provided, the default max-heap behavior should be used — the \"`lambda x:x`\" default value for the `__init__` method does just that. \n\nYou will, at the very least, need to update the `_heapify` and `add` methods, below, to complete this assignment. (Note, also, that `pop_max` has been renamed `pop`, while `max` has been renamed `peek`, to reflect their more general nature.)"
    },
    {
      "metadata": {
        "nbgrader": {
          "grade": false,
          "grade_id": "heap",
          "locked": false,
          "schema_version": 1,
          "solution": true
        },
        "id": "heap",
        "state": "graded",
        "deletable": false,
        "starter_code": "class Heap:\n    def __init__(self, key=lambda x:x):\n        self.data = []\n        self.key  = key\n\n    @staticmethod\n    def _parent(idx):\n        return (idx-1)//2\n        \n    @staticmethod\n    def _left(idx):\n        return idx*2+1\n\n    @staticmethod\n    def _right(idx):\n        return idx*2+2\n    \n    def heapify(self, idx=0):\n        pass\n            \n    def add(self, x):\n        pass\n        \n    def peek(self):\n        return self.data[0]\n\n    def pop(self):\n        ret = self.data[0]\n        self.data[0] = self.data[len(self.data)-1]\n        del self.data[len(self.data)-1]\n        self.heapify()\n        return ret\n    \n    def __bool__(self):\n        return len(self.data) > 0\n\n    def __len__(self):\n        return len(self.data)\n\n    def __repr__(self):\n        return repr(self.data)",
        "trusted": true
      },
      "cell_type": "code",
      "source": "class Heap:\n    def __init__(self, key=lambda x:x):\n        self.data = []\n        self.key  = key\n\n    @staticmethod\n    def _parent(idx):\n        return (idx-1)//2\n        \n    @staticmethod\n    def _left(idx):\n        return idx*2+1\n\n    @staticmethod\n    def _right(idx):\n        return idx*2+2\n    \n    def heapify(self, idx=0):\n        while idx < len(self):\n            lidx = Heap._left(idx)\n            ridx = Heap._right(idx)\n            maxidx = idx\n            if lidx < len(self) and self.key(self.data[lidx]) > self.key(self.data[maxidx]):\n                maxidx = lidx\n            if ridx < len(self) and self.key(self.data[ridx]) > self.key(self.data[maxidx]):\n                maxidx = ridx\n            if maxidx != idx:\n                self.data[idx], self.data[maxidx] = self.data[maxidx], self.data[idx]\n                idx = maxidx\n            else:\n                break \n            \n    def add(self, x):\n        self.data.append(x) # add the value at the bottom right of the tree\n        \n        # carry out the bubble-up algorithm\n        idx = len(self.data) - 1\n        while idx > 0:\n            pidx = Heap._parent(idx)\n            if self.key(self.data[pidx]) < self.key(self.data[idx]): # i.e., max-heap property is false\n                self.data[pidx], self.data[idx] = self.data[idx], self.data[pidx]\n                idx = pidx\n            else:\n                break    \n                \n    def peek(self):\n        return self.data[0]\n\n    def pop(self):\n        ret = self.data[0]\n        self.data[0] = self.data[len(self.data)-1]\n        del self.data[len(self.data)-1]\n        self.heapify()\n        return ret\n    \n    def __bool__(self):\n        return len(self.data) > 0\n\n    def __len__(self):\n        return len(self.data)\n\n    def __repr__(self):\n        return repr(self.data)",
      "execution_count": 1,
      "outputs": []
    },
    {
      "metadata": {
        "nbgrader": {
          "grade": true,
          "grade_id": "heap_test_1",
          "locked": true,
          "points": 1,
          "schema_version": 1,
          "solution": false
        },
        "id": "heap_test_1",
        "state": "read_only",
        "editable": false,
        "deletable": false,
        "trusted": true
      },
      "cell_type": "code",
      "source": "# (1 point)\n\nfrom unittest import TestCase\nimport random\n\ntc = TestCase()\nh = Heap()\n\nrandom.seed(0)\nfor _ in range(10):\n    h.add(random.randrange(100))\n\ntc.assertEqual(h.data, [97, 61, 65, 49, 51, 53, 62, 5, 38, 33])",
      "execution_count": 2,
      "outputs": []
    },
    {
      "metadata": {
        "nbgrader": {
          "grade": true,
          "grade_id": "heap_test_2",
          "locked": true,
          "points": 1,
          "schema_version": 1,
          "solution": false
        },
        "id": "heap_test_2",
        "state": "read_only",
        "editable": false,
        "deletable": false,
        "trusted": true
      },
      "cell_type": "code",
      "source": "# (1 point)\n\nfrom unittest import TestCase\nimport random\n\ntc = TestCase()\nh = Heap(lambda x:-x)\n\nrandom.seed(0)\nfor _ in range(10):\n    h.add(random.randrange(100))\n\ntc.assertEqual(h.data, [5, 33, 53, 38, 49, 65, 62, 97, 51, 61])",
      "execution_count": 3,
      "outputs": []
    },
    {
      "metadata": {
        "nbgrader": {
          "grade": true,
          "grade_id": "heap_test_3",
          "locked": true,
          "points": 2,
          "schema_version": 1,
          "solution": false
        },
        "id": "heap_test_3",
        "state": "read_only",
        "editable": false,
        "deletable": false,
        "trusted": true
      },
      "cell_type": "code",
      "source": "# (2 points)\n\nfrom unittest import TestCase\nimport random\n\ntc = TestCase()\nh = Heap(lambda s:len(s))\n\nh.add('hello')\nh.add('hi')\nh.add('abracadabra')\nh.add('supercalifragilisticexpialidocious')\nh.add('0')\n\ntc.assertEqual(h.data,\n              ['supercalifragilisticexpialidocious', 'abracadabra', 'hello', 'hi', '0'])",
      "execution_count": 4,
      "outputs": []
    },
    {
      "metadata": {
        "nbgrader": {
          "grade": true,
          "grade_id": "heap_test_4",
          "locked": true,
          "points": 2,
          "schema_version": 1,
          "solution": false
        },
        "id": "heap_test_4",
        "state": "read_only",
        "editable": false,
        "deletable": false,
        "trusted": true
      },
      "cell_type": "code",
      "source": "# (2 points)\n\nfrom unittest import TestCase\nimport random\n\ntc = TestCase()\nh = Heap()\n\nrandom.seed(0)\nlst = list(range(-1000, 1000))\nrandom.shuffle(lst)\n\nfor x in lst:\n    h.add(x)\n\nfor x in range(999, -1000, -1):\n    tc.assertEqual(x, h.pop())",
      "execution_count": 5,
      "outputs": []
    },
    {
      "metadata": {
        "nbgrader": {
          "grade": true,
          "grade_id": "heap_test_5",
          "locked": true,
          "points": 2,
          "schema_version": 1,
          "solution": false
        },
        "id": "heap_test_5",
        "state": "read_only",
        "editable": false,
        "deletable": false,
        "trusted": true
      },
      "cell_type": "code",
      "source": "# (2 points)\n\nfrom unittest import TestCase\nimport random\n\ntc = TestCase()\nh = Heap(key=lambda x:abs(x))\n\nrandom.seed(0)\nlst = list(range(-1000, 1000, 3))\nrandom.shuffle(lst)\n\nfor x in lst:\n    h.add(x)\n\nfor x in reversed(sorted(range(-1000, 1000, 3), key=lambda x:abs(x))):\n    tc.assertEqual(x, h.pop())",
      "execution_count": 6,
      "outputs": []
    },
    {
      "metadata": {
        "state": "normal"
      },
      "cell_type": "markdown",
      "source": "## 2. Computing the Running Median\n\nThe median of a series of numbers is simply the middle term if ordered by magnitude, or, if there is no middle term, the average of the two middle terms. E.g., the median of the series [3, 1, 9, 25, 12] is **9**, and the median of the series [8, 4, 11, 18] is **9.5**.\n\nIf we are in the process of accumulating numerical data, it is useful to be able to compute the *running median* — where, as each new data point is encountered, an updated median is computed. This should be done, of course, as efficiently as possible.\n\nThe following function demonstrates a naive way of computing the running medians based on the series passed in as an iterable."
    },
    {
      "metadata": {
        "state": "read_only",
        "editable": false,
        "deletable": false,
        "id": "running_medians_naive",
        "trusted": true
      },
      "cell_type": "code",
      "source": "def running_medians_naive(iterable):\n    values = []\n    medians = []\n    for i, x in enumerate(iterable):\n        values.append(x)\n        values.sort()\n        if i%2 == 0:\n            medians.append(values[i//2])\n        else:\n            medians.append((values[i//2] + values[i//2+1]) / 2)\n    return medians",
      "execution_count": 7,
      "outputs": []
    },
    {
      "metadata": {
        "state": "normal",
        "trusted": true
      },
      "cell_type": "code",
      "source": "running_medians_naive([3, 1, 9, 25, 12])",
      "execution_count": 8,
      "outputs": [
        {
          "output_type": "execute_result",
          "execution_count": 8,
          "data": {
            "text/plain": "[3, 2.0, 3, 6.0, 9]"
          },
          "metadata": {}
        }
      ]
    },
    {
      "metadata": {
        "state": "normal",
        "trusted": true
      },
      "cell_type": "code",
      "source": "running_medians_naive([8, 4, 11, 18])",
      "execution_count": 9,
      "outputs": [
        {
          "output_type": "execute_result",
          "execution_count": 9,
          "data": {
            "text/plain": "[8, 6.0, 8, 9.5]"
          },
          "metadata": {}
        }
      ]
    },
    {
      "metadata": {
        "state": "normal"
      },
      "cell_type": "markdown",
      "source": "Note that the function keeps track of all the values encountered during the iteration and uses them to compute the running medians, which are returned at the end as a list. The final running median, naturally, is simply the median of the entire series.\n\nUnfortunately, because the function sorts the list of values during every iteration it is incredibly inefficient. Your job is to implement a version that computes each running median in O(log N) time using, of course, the heap data structure!\n\n### Hints\n\n- You will need to use two heaps for your solution: one min-heap, and one max-heap. \n- The min-heap should be used to keep track of all values *greater than* the most recent running median, and the max-heap for all values *less than* the most recent running median — this way, the median will lie between the minimum value on the min-heap and the maximum value on the max-heap (both of which can be efficiently extracted)\n- In addition, the difference between the number of values stored in the min-heap and max-heap must never exceed 1 (to ensure the median is being computed). This can be taken care of by intelligently `pop`-ping/`add`-ing elements between the two heaps."
    },
    {
      "metadata": {
        "nbgrader": {
          "grade": false,
          "grade_id": "running_median",
          "locked": false,
          "schema_version": 1,
          "solution": true
        },
        "id": "running_median",
        "state": "graded",
        "deletable": false,
        "starter_code": "def running_medians(iterable):\n    pass",
        "trusted": true
      },
      "cell_type": "code",
      "source": "def running_medians(iterable):\n    #The min-heap should be used to keep track of all values greater than the most recent running median, \n    # and the max-heap for all values less than the most recent running median — \n    # this way, the median will lie between the minimum value on the min-heap and the maximum value on the max-heap \n    # (both of which can be efficiently extracted)\n    \n    min_heap = Heap(lambda x: -x)\n    max_heap = Heap()\n    rlst = []\n\n    for idx, a in enumerate(iterable):\n        \n        if idx == 0:\n            max_heap.add(a)\n            rlst.append(a)\n#         if len(max_heap) == len(min_heap) == 0:\n#             max_heap.add(a)\n#             rlst.append(a)\n\n        curr_med = rlst[-1]\n        \n        if a > curr_med:\n            min_heap.add(a)\n        elif a < curr_med:\n            max_heap.add(a)\n        \n#         min_heap.heapify()\n#         max_heap.heapify()\n        \n        #Now calculate the median from the given data\n        #If the sizes of the two heaps are equal, take the roots of both the heaps and divide them by 2\n        #Else take the root of the heap that's equal, that is the median\n        \n        #Adjust the heaps such that the difference between the number\n        #of values stored in the min-heap and max-heap must never exceed\n        if (len(min_heap) -len(max_heap)) > 1:\n            #Pop the minimum value on the min_heap\n            pop_value=min_heap.pop()\n            #Add the pop value to max_heap\n            max_heap.add(pop_value)\n        elif (len(max_heap) - len(min_heap)) > 1:\n            #Pop the maximum value on the min_heap\n            pop_value=max_heap.pop()\n            #Add the pop value to min_heap\n            min_heap.add(pop_value)\n            \n        if len(max_heap) == len(min_heap):\n            #Both equivalent sizes\n            rlst.append((max_heap.peek() + min_heap.peek()) / 2)\n            \n        if abs(len(max_heap) - len(min_heap)) == 1:\n            #If there's a difference of one\n            if len(max_heap) > len(min_heap):\n                #max heap is bigger\n                rlst.append(max_heap.peek())\n            else:\n                #min heap is bigger\n                rlst.append(min_heap.peek())\n                \n    del rlst[0]\n    return rlst\n#     return rlst# At the end of it all return the running median list",
      "execution_count": 36,
      "outputs": []
    },
    {
      "metadata": {
        "nbgrader": {
          "grade": true,
          "grade_id": "running_median_1",
          "locked": true,
          "points": 2,
          "schema_version": 1,
          "solution": false
        },
        "id": "running_median_1",
        "state": "read_only",
        "editable": false,
        "deletable": false,
        "trusted": true
      },
      "cell_type": "code",
      "source": "# (2 points)\n\nfrom unittest import TestCase\ntc = TestCase()\ntc.assertEqual([3, 2.0, 3, 6.0, 9], running_medians([3, 1, 9, 25, 12]))",
      "execution_count": 37,
      "outputs": []
    },
    {
      "metadata": {
        "nbgrader": {
          "grade": true,
          "grade_id": "running_median_2",
          "locked": true,
          "points": 2,
          "schema_version": 1,
          "solution": false
        },
        "id": "running_median_2",
        "state": "read_only",
        "editable": false,
        "deletable": false,
        "trusted": true
      },
      "cell_type": "code",
      "source": "# (2 points)\n\nimport random\nfrom unittest import TestCase\ntc = TestCase()\nvals = [random.randrange(10000) for _ in range(1000)]\ntc.assertEqual(running_medians_naive(vals), running_medians(vals))",
      "execution_count": 38,
      "outputs": []
    },
    {
      "metadata": {
        "nbgrader": {
          "grade": true,
          "grade_id": "running_median_3",
          "locked": true,
          "points": 4,
          "schema_version": 1,
          "solution": false
        },
        "id": "running_median_3",
        "state": "read_only",
        "editable": false,
        "deletable": false,
        "trusted": true
      },
      "cell_type": "code",
      "source": "# (4 points) MUST COMPLETE IN UNDER 10 seconds!\n\nimport random\nfrom unittest import TestCase\ntc = TestCase()\nvals = [random.randrange(100000) for _ in range(100001)]\nm_mid   = sorted(vals[:50001])[50001//2]\nm_final = sorted(vals)[len(vals)//2]\nrunning = running_medians(vals)\ntc.assertEqual(m_mid, running[50000])\ntc.assertEqual(m_final, running[-1])",
      "execution_count": 39,
      "outputs": []
    }
  ],
  "metadata": {
    "kernelspec": {
      "name": "python3",
      "display_name": "Python 3",
      "language": "python"
    },
    "language_info": {
      "name": "python",
      "version": "3.7.3",
      "mimetype": "text/x-python",
      "codemirror_mode": {
        "name": "ipython",
        "version": 3
      },
      "pygments_lexer": "ipython3",
      "nbconvert_exporter": "python",
      "file_extension": ".py"
    },
    "mimir": {
      "project_id": "3eff116b-b38d-49e9-be89-37af853aac5d",
      "last_submission_id": "37e8918c-1a78-4845-a554-2250e424c02a",
      "data": {}
    },
    "varInspector": {
      "window_display": false,
      "cols": {
        "lenName": 16,
        "lenType": 16,
        "lenVar": 40
      },
      "kernels_config": {
        "python": {
          "library": "var_list.py",
          "delete_cmd_prefix": "del ",
          "delete_cmd_postfix": "",
          "varRefreshCmd": "print(var_dic_list())"
        },
        "r": {
          "library": "var_list.r",
          "delete_cmd_prefix": "rm(",
          "delete_cmd_postfix": ") ",
          "varRefreshCmd": "cat(var_dic_list()) "
        }
      },
      "types_to_exclude": [
        "module",
        "function",
        "builtin_function_or_method",
        "instance",
        "_Feature"
      ]
    }
  },
  "nbformat": 4,
  "nbformat_minor": 2
}