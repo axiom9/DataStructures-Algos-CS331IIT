{
  "nbformat": 4,
  "nbformat_minor": 0,
  "metadata": {
    "colab": {
      "name": "Runtime Complexity Analysis",
      "provenance": [],
      "collapsed_sections": []
    },
    "kernelspec": {
      "name": "python3",
      "display_name": "Python 3"
    },
    "language_info": {
      "name": "python"
    }
  },
  "cells": [
    {
      "cell_type": "code",
      "metadata": {
        "id": "li6KdkXX47aT"
      },
      "source": [
        "import matplotlib.pylab as plt\n",
        "import numpy as np\n",
        "import math\n",
        "import statistics\n",
        "import timeit\n",
        "import random\n",
        "%matplotlib inline"
      ],
      "execution_count": 1,
      "outputs": []
    },
    {
      "cell_type": "markdown",
      "metadata": {
        "id": "lHON1acfM793"
      },
      "source": [
        "### Demo"
      ]
    },
    {
      "cell_type": "code",
      "metadata": {
        "id": "DHUZyborAMgW"
      },
      "source": [
        "def demo(n):\n",
        "    accum = 0\n",
        "    for i in range(n):\n",
        "        accum += 1\n",
        "    return accum"
      ],
      "execution_count": 2,
      "outputs": []
    },
    {
      "cell_type": "code",
      "metadata": {
        "id": "jFNTMGDAIPAT"
      },
      "source": [
        "# global lst\n",
        "# lst = []\n",
        "# for i in range(0, 1000, 5):\n",
        "  \n",
        "#   [timeit.timeit('sum(r)',\n",
        "#                 setup='lst.append({})'.format(i),\n",
        "#                 number=1000),\n",
        "#                 globals=globals(),\n",
        "#   for n in range(1000, 10_000, 1000)]"
      ],
      "execution_count": 227,
      "outputs": []
    },
    {
      "cell_type": "markdown",
      "metadata": {
        "id": "zM8k4NFdM9x3"
      },
      "source": [
        "### Exercise 1"
      ]
    },
    {
      "cell_type": "code",
      "metadata": {
        "id": "dSYj1uwKKc3W"
      },
      "source": [
        "def f1(lst):\n",
        "    r = 0\n",
        "    n = 100\n",
        "    if len(lst) < n:\n",
        "        n = len(lst)\n",
        "    for x in range(n):\n",
        "        r += x"
      ],
      "execution_count": 4,
      "outputs": []
    },
    {
      "cell_type": "code",
      "metadata": {
        "id": "U3exA4zJE7cx"
      },
      "source": [
        "lst = []\n",
        "ts = []\n",
        "ns = []\n",
        "\n",
        "s = '''\n",
        "lst = []\n",
        "def func_call(lst=lst):\n",
        "  for i in range(0, 1000, 5):\n",
        "    lst.append(i)\n",
        "\n",
        "    '''\n",
        "ts.append([timeit.timeit('f1({})'.format(lst),\n",
        "               setup=s,\n",
        "               number=1000,\n",
        "               globals=globals())\n",
        "              for n in range(0, 1000, 5)])\n",
        "\n",
        "a = np.squeeze(ts)\n",
        "\n",
        "ts = a.tolist()\n",
        "\n",
        "for i in range(0, 200, 1):\n",
        "  ns.append(i)"
      ],
      "execution_count": 5,
      "outputs": []
    },
    {
      "cell_type": "code",
      "metadata": {
        "id": "nss9YCTh5CSi"
      },
      "source": [
        "# lst = []\n",
        "# ts_list = []\n",
        "# ns = []\n",
        "# for i in range(0, 1000, 5):\n",
        "#   lst.append(i)\n",
        "#   ns.append(i)\n",
        "# #  ns = np.linspace(1, 10_000, 400, dtype=int)\n",
        "  \n",
        "  # ts_list.append([timeit.timeit('f1({})'.format(lst), \n",
        "  #                   number=5000, \n",
        "  #                   globals=globals())])\n",
        "        #for n in lst]  "
      ],
      "execution_count": 6,
      "outputs": []
    },
    {
      "cell_type": "code",
      "metadata": {
        "colab": {
          "base_uri": "https://localhost:8080/",
          "height": 265
        },
        "id": "Gr2lkS3aAQ8A",
        "outputId": "15cd3442-08b7-48e5-e594-cf3fa87cb419"
      },
      "source": [
        "plt.scatter(ns,ts);"
      ],
      "execution_count": 7,
      "outputs": [
        {
          "output_type": "display_data",
          "data": {
            "image/png": "[encoded data removed]",
            "text/plain": [
              "<Figure size 432x288 with 1 Axes>"
            ]
          },
          "metadata": {
            "needs_background": "light"
          }
        }
      ]
    },
    {
      "cell_type": "code",
      "metadata": {
        "id": "4CSv9ZNNA1-E",
        "colab": {
          "base_uri": "https://localhost:8080/",
          "height": 265
        },
        "outputId": "062c03ab-0385-4bd7-daae-43af0b1d8483"
      },
      "source": [
        "plt.plot(ns, ts, 'or')\n",
        "plt.plot(ns, [.001]*len(ns), '-g')\n",
        "plt.plot(ns, [-.0001]*len(ns), '-b');"
      ],
      "execution_count": 8,
      "outputs": [
        {
          "output_type": "display_data",
          "data": {
            "image/png": "[encoded data removed]",
            "text/plain": [
              "<Figure size 432x288 with 1 Axes>"
            ]
          },
          "metadata": {
            "needs_background": "light"
          }
        }
      ]
    },
    {
      "cell_type": "markdown",
      "metadata": {
        "id": "HihWOiwmM38k"
      },
      "source": [
        "### Exercise 2\n"
      ]
    },
    {
      "cell_type": "code",
      "metadata": {
        "id": "goITInPbMWdm"
      },
      "source": [
        "def f2(x):\n",
        "    r = x / 2\n",
        "    d = 1e-10\n",
        "    while abs(x - r**2) > d:\n",
        "        r = (r + x/r) / 2\n",
        "    return r"
      ],
      "execution_count": 171,
      "outputs": []
    },
    {
      "cell_type": "code",
      "metadata": {
        "id": "AbiGDJwpNBev"
      },
      "source": [
        "# collect timing data into arrays/lists here\n",
        "ts = []\n",
        "ns = []\n",
        "\n",
        "ts.append([timeit.timeit('f2({})'.format(n),\n",
        "               number=10000,\n",
        "               globals=globals())\n",
        "              for n in range(0, 3000, 5)])\n",
        "\n",
        "_ = np.squeeze(ts)\n",
        "\n",
        "ts = _.tolist()\n",
        "\n",
        "for i in range(0, 3000, 5):\n",
        "  ns.append(i)"
      ],
      "execution_count": null,
      "outputs": []
    },
    {
      "cell_type": "code",
      "metadata": {
        "colab": {
          "base_uri": "https://localhost:8080/",
          "height": 264
        },
        "id": "s0HMTpxyqhGO",
        "outputId": "e5099986-cb4a-406e-cc86-48f3b270ef88"
      },
      "source": [
        "xs = np.linspace(0.1, 4, 600)\n",
        "ys_log = [.0025*math.log(1*x) + .03 for x in xs] # Upper bound \n",
        "ys_log2 = [.0025*math.log(1*x) + .02 for x in xs] # Lower bounds\n",
        "\n",
        "\n",
        "plt.plot(ns, ts, 'or');\n",
        "\n",
        "plt.plot(ns, ys_log, '-g');\n",
        "plt.plot(ns, ys_log2, '-b');"
      ],
      "execution_count": null,
      "outputs": [
        {
          "output_type": "display_data",
          "data": {
            "image/png": "[encoded data removed]",
            "text/plain": [
              "<Figure size 432x288 with 1 Axes>"
            ]
          },
          "metadata": {
            "needs_background": "light"
          }
        }
      ]
    },
    {
      "cell_type": "markdown",
      "metadata": {
        "id": "QD6GMzBW6W8x"
      },
      "source": [
        ""
      ]
    },
    {
      "cell_type": "markdown",
      "metadata": {
        "id": "b4w5uRGs8CjD"
      },
      "source": [
        "### Exercise 3"
      ]
    },
    {
      "cell_type": "code",
      "metadata": {
        "id": "ELv2ra9Y8CQf"
      },
      "source": [
        "def f3(lst):\n",
        "    while True:\n",
        "        swapped = False\n",
        "        for i in range(len(lst)-1):\n",
        "            if lst[i] > lst[i+1]:\n",
        "                lst[i], lst[i+1] = lst[i+1], lst[i]\n",
        "                swapped = True\n",
        "        if not swapped:\n",
        "            break"
      ],
      "execution_count": 9,
      "outputs": []
    },
    {
      "cell_type": "code",
      "metadata": {
        "id": "_Ek_O2E4lKL8"
      },
      "source": [
        "ns = np.linspace(0, 1000, 100, dtype=int)\n",
        "\n",
        "ts3 = [timeit.timeit('f3(lst)',\n",
        "                     setup='lst=list((range({})))'.format(n),\n",
        "                     globals=globals(),\n",
        "                     number=1)\n",
        "       for n in ns]"
      ],
      "execution_count": 179,
      "outputs": []
    },
    {
      "cell_type": "code",
      "metadata": {
        "colab": {
          "base_uri": "https://localhost:8080/",
          "height": 265
        },
        "id": "XtHLelJslY6k",
        "outputId": "80c6d4b0-c956-4060-e842-6eaf60c9c3fb"
      },
      "source": [
        "plt.scatter(ns, ts3);"
      ],
      "execution_count": 180,
      "outputs": [
        {
          "output_type": "display_data",
          "data": {
            "image/png": "[encoded data removed]",
            "text/plain": [
              "<Figure size 432x288 with 1 Axes>"
            ]
          },
          "metadata": {
            "needs_background": "light"
          }
        }
      ]
    },
    {
      "cell_type": "code",
      "metadata": {
        "id": "oN-kSv578H1O"
      },
      "source": [
        "ns = []\n",
        "ts = []\n",
        "lst = []\n",
        "\n",
        "for i in range(500, 0, -1):\n",
        "  lst.append(i)\n",
        "  start_time = timeit.default_timer()\n",
        "  f3(lst)\n",
        "  end_time = timeit.default_timer()\n",
        "  ts.append(end_time-start_time)\n",
        "  ns.append(len(lst))"
      ],
      "execution_count": 182,
      "outputs": []
    },
    {
      "cell_type": "code",
      "metadata": {
        "colab": {
          "base_uri": "https://localhost:8080/",
          "height": 265
        },
        "id": "di5YCby28QWR",
        "outputId": "5dcb2a68-d2bd-4b4a-c35f-aeab1a7b2881"
      },
      "source": [
        "count = 100\n",
        "xs = np.linspace(0.1, 4, count)\n",
        "ys_quadratic = [.001*x**2 for x in xs] #upper bounds\n",
        "ys_quadratic_2 = [x**2 for x in xs] #lower bounds\n",
        "\n",
        "plt.plot(ns, ts, 'or');\n",
        "plt.plot(ns, [(.0000001)*(n+55)**2 for n in range(0,len(lst))], '-g');\n",
        "plt.plot(ns, [(.0000001)*(n-35)**2 for n in range(0,len(lst))], '-b');"
      ],
      "execution_count": 217,
      "outputs": [
        {
          "output_type": "display_data",
          "data": {
            "image/png": "[encoded data removed]",
            "text/plain": [
              "<Figure size 432x288 with 1 Axes>"
            ]
          },
          "metadata": {
            "needs_background": "light"
          }
        }
      ]
    },
    {
      "cell_type": "markdown",
      "metadata": {
        "id": "40DL_5Penzge"
      },
      "source": [
        "###Exercise 4"
      ]
    },
    {
      "cell_type": "code",
      "metadata": {
        "id": "Y-MfAjfgnzHK"
      },
      "source": [
        "def f4(n):\n",
        "    counters = [0] * n\n",
        "    while not all(counters):\n",
        "        for i in range(n):\n",
        "            if counters[i]:\n",
        "                counters[i] = 0\n",
        "            else:\n",
        "                counters[i] = 1\n",
        "                break"
      ],
      "execution_count": 228,
      "outputs": []
    },
    {
      "cell_type": "code",
      "metadata": {
        "id": "4kqeFSbZ8U82"
      },
      "source": [
        "ts = []\n",
        "ns = []\n",
        "for i in range(0, 25):\n",
        "  start_time = timeit.default_timer()\n",
        "  f4(i)\n",
        "  end_time = timeit.default_timer()\n",
        "  ts.append(end_time-start_time)\n",
        "  ns.append(i)"
      ],
      "execution_count": 240,
      "outputs": []
    },
    {
      "cell_type": "code",
      "metadata": {
        "colab": {
          "base_uri": "https://localhost:8080/",
          "height": 265
        },
        "id": "wTJyX039ocVT",
        "outputId": "8e9f9667-4f76-4cff-eb8e-4a1b4adfb684"
      },
      "source": [
        "\n",
        "count = 100\n",
        "xs = np.linspace(0.1, 25, count)\n",
        "ys_exp = [2**(1*x-20) for x in xs]\n",
        "ys_exp2 = [3.99**(1*x-23) for x in xs]\n",
        "\n",
        "plt.plot(ns, ts, 'or');\n",
        "plt.plot(xs, ys_exp, '-g'); #upper\n",
        "plt.plot(xs,ys_exp2, '-b'); #lower"
      ],
      "execution_count": 247,
      "outputs": [
        {
          "output_type": "display_data",
          "data": {
            "image/png": "[encoded data removed]",
            "text/plain": [
              "<Figure size 432x288 with 1 Axes>"
            ]
          },
          "metadata": {
            "needs_background": "light"
          }
        }
      ]
    },
    {
      "cell_type": "markdown",
      "metadata": {
        "id": "OmIyXNSOuMxv"
      },
      "source": [
        "###Exercise 5"
      ]
    },
    {
      "cell_type": "code",
      "metadata": {
        "id": "thT0mIaUrMmH"
      },
      "source": [
        "def f5(lst):\n",
        "    n = len(lst)\n",
        "    for i in range(n*100):\n",
        "        a = random.randrange(n)\n",
        "        b = random.randrange(n)\n",
        "        lst[a], lst[b] = lst[b], lst[a]"
      ],
      "execution_count": 248,
      "outputs": []
    },
    {
      "cell_type": "code",
      "metadata": {
        "id": "Fq30V4mzuT2b"
      },
      "source": [
        "lst = []\n",
        "ts = []\n",
        "ns = []\n",
        "for i in range(0, 1000, 5):\n",
        "  lst.append(i)\n",
        "  start_time = timeit.default_timer()\n",
        "  f5(lst)\n",
        "  end_time = timeit.default_timer()\n",
        "  ts.append(end_time - start_time)\n",
        "  ns.append(len(lst))\n"
      ],
      "execution_count": 262,
      "outputs": []
    },
    {
      "cell_type": "code",
      "metadata": {
        "colab": {
          "base_uri": "https://localhost:8080/",
          "height": 268
        },
        "id": "DjmgWv6ZubnY",
        "outputId": "d0c22aeb-0a5f-4437-c2cc-a102b97020c3"
      },
      "source": [
        "count = 100\n",
        "xs = np.linspace(0.1, 200, count)\n",
        "ys_linear = [(.00024*x) for x in xs]\n",
        "ys_linear2=[(.00017*x) for x in xs]\n",
        "\n",
        "plt.plot(ns, ts, 'or');\n",
        "plt.plot(xs, ys_linear, '-g'); #upper bounds\n",
        "plt.plot(xs, ys_linear2, '-b'); #lower bounds"
      ],
      "execution_count": 269,
      "outputs": [
        {
          "output_type": "display_data",
          "data": {
            "image/png": "[encoded data removed]",
            "text/plain": [
              "<Figure size 432x288 with 1 Axes>"
            ]
          },
          "metadata": {
            "needs_background": "light"
          }
        }
      ]
    }
  ]
}
